{
  "nbformat": 4,
  "nbformat_minor": 0,
  "metadata": {
    "colab": {
      "name": "ml_hw2.ipynb",
      "provenance": [],
      "collapsed_sections": [],
      "toc_visible": true
    },
    "kernelspec": {
      "name": "python3",
      "display_name": "Python 3"
    },
    "language_info": {
      "name": "python"
    }
  },
  "cells": [
    {
      "cell_type": "code",
      "metadata": {
        "id": "POCq0L6Q-MN5"
      },
      "source": [
        "from datetime import datetime\n",
        "from functools import reduce\n",
        "import pickle\n",
        "import pandas as pd\n",
        "import numpy as np\n",
        "import matplotlib.pyplot as plt\n",
        "from scipy.stats import spearmanr, kendalltau\n",
        " \n",
        " \n",
        "#!wget -q https://www.dropbox.com/s/s4qj0fpsn378m2i/chgk.zip\n",
        "#!unzip -qq chgk.zip\n",
        "#!gdown https://drive.google.com/uc?id=1gNygbDbr7ZVC0nkk3-Nkk3gsu1xIUaGl # заранее сохраненный rating_test.pkl\n",
        " \n",
        "with open('players.pkl', 'rb') as fin:\n",
        "    players = pickle.load(fin)\n",
        " \n",
        "with open('results.pkl', 'rb') as fin:\n",
        "    results = pickle.load(fin)\n",
        " \n",
        "with open('tournaments.pkl', 'rb') as fin:\n",
        "    tournaments = pickle.load(fin)"
      ],
      "execution_count": 1,
      "outputs": []
    },
    {
      "cell_type": "markdown",
      "metadata": {
        "id": "p4WJwqyoRXCf"
      },
      "source": [
        "# 1. Создание выборки."
      ]
    },
    {
      "cell_type": "code",
      "metadata": {
        "id": "Aef548uTBFga"
      },
      "source": [
        "new_results = {}\n",
        " \n",
        "for key, value in results.items():\n",
        "    try:\n",
        "        mask_array = [value[i]['mask'] for i in range(len(value))]\n",
        "        member_amount_array = [len(value[i]['teamMembers']) for i in range(len(value))]\n",
        "        if any(mask_array) and any(member_amount_array) != 0:\n",
        "            new_results[key] = value\n",
        "    except KeyError:\n",
        "        continue"
      ],
      "execution_count": 2,
      "outputs": []
    },
    {
      "cell_type": "code",
      "metadata": {
        "colab": {
          "base_uri": "https://localhost:8080/"
        },
        "id": "b89baqFsN1_Y",
        "outputId": "e0117cd0-13cb-4251-a8cd-b471d2d76ae8"
      },
      "source": [
        "train_results = {}\n",
        "test_results = {}\n",
        " \n",
        "for key, value in new_results.items():\n",
        "    year = tournaments[key]['dateStart'].split('-')[0]\n",
        "    if year == '2019':\n",
        "        train_results[key] = value\n",
        "    elif year == '2020':\n",
        "        test_results[key] = value\n",
        " \n",
        "print(f'Train (2019 yr): {len(train_results)} examples \\nTest (2020 yr): {len(test_results)} examples')"
      ],
      "execution_count": 3,
      "outputs": [
        {
          "output_type": "stream",
          "text": [
            "Train (2019 yr): 675 examples \n",
            "Test (2020 yr): 173 examples\n"
          ],
          "name": "stdout"
        }
      ]
    },
    {
      "cell_type": "markdown",
      "metadata": {
        "id": "59A92TT-RevE"
      },
      "source": [
        "# 2. Построение baseline модели."
      ]
    },
    {
      "cell_type": "markdown",
      "metadata": {
        "id": "wEYqVZHVTSPn"
      },
      "source": [
        "Вводим понятие сложности вопроса и оцениваем силу каждого игрока по результату команды.  \n",
        "На некоторых турнирах длина маски разная, логично предположить, что некоторые команды не доходят до следующего этапа, поэтому можно дополнить маску нулями, в этом случае сложность 1 будет соответствовать простым вопросам, а из-за обилия 0 в финальных вопросах, они будут считаться сложными и стремиться к 0. Чтобы перевести в удобный вариант, нужно вычесть полученное число из 1, тогда единице будет соответствовать наиболее сложный вопрос."
      ]
    },
    {
      "cell_type": "code",
      "metadata": {
        "id": "8dJn6rVQPiqA"
      },
      "source": [
        "del results"
      ],
      "execution_count": 4,
      "outputs": []
    },
    {
      "cell_type": "code",
      "metadata": {
        "id": "FSIPJOgCWhQv"
      },
      "source": [
        "def pad_with_zeros(mask, length):\n",
        "    if mask:\n",
        "        array = [int(each) if each in ('0', '1') else 0 for each in mask]\n",
        "        initial_len = len(array)\n",
        "        delta_len = length - initial_len\n",
        "        return array + [0] * delta_len\n",
        "    else:\n",
        "        return [0] * length\n",
        " \n",
        " \n",
        "def difficulty(results):\n",
        "    output = {}\n",
        "    for id, teams in results.items():\n",
        "        max_len = max([len(each['mask']) if each['mask'] else 0 for each in teams])\n",
        "        masks = np.array([pad_with_zeros(each['mask'], max_len) for each in teams])\n",
        "        question_difficulty = 1 - masks.sum(axis=0) / masks.shape[0]\n",
        "        output[id] = question_difficulty\n",
        "    return output"
      ],
      "execution_count": 5,
      "outputs": []
    },
    {
      "cell_type": "code",
      "metadata": {
        "id": "-4XR4UWU9KsU"
      },
      "source": [
        "def create_dataset(results):\n",
        "    output = []\n",
        "    question_difficulty = difficulty(results)\n",
        "    for id, teams in results.items():\n",
        "        max_len = len(question_difficulty[id])\n",
        "        for team in teams:\n",
        "            mask = pad_with_zeros(team['mask'], max_len)\n",
        "            team_id = team['team']['id']\n",
        "            for player in team['teamMembers']:\n",
        "                for i, question in enumerate(mask):\n",
        "                    output.append([player['player']['id'], i, question_difficulty[id][i], question, team_id])\n",
        "    return pd.DataFrame(output, columns=['player_id', 'question_num', 'difficulty', 'answer', 'team_id'])"
      ],
      "execution_count": 6,
      "outputs": []
    },
    {
      "cell_type": "code",
      "metadata": {
        "id": "lQ3MG7DiU1uM"
      },
      "source": [
        "from sklearn.linear_model import LogisticRegression\n",
        "from IPython.display import display, clear_output\n",
        "\n",
        "def make_rating(df):\n",
        "    output_rating = {}\n",
        "    all_ids = df['player_id'].unique()\n",
        "    counter = 0\n",
        "    for id in all_ids:\n",
        "        data = df[df['player_id'] == id]\n",
        "        y = data['answer'].values\n",
        "        x = data['difficulty'].values.reshape(-1, 1)\n",
        "        if np.mean(y) in [0, 1]: # возникают ошибки при константном y\n",
        "            output_rating[id] = np.mean(y)\n",
        "        else:\n",
        "            model = LogisticRegression(penalty='l2', solver='liblinear', max_iter=10)\n",
        "            model.fit(x, y)\n",
        "            output_rating[id] = np.mean(x.T * model.predict_proba(x)[:, 1])\n",
        "        counter += 1\n",
        "        display(f'{counter} / {len(all_ids)} : {counter / len(all_ids):.2f}%')\n",
        "        clear_output()\n",
        "    return output_rating"
      ],
      "execution_count": 7,
      "outputs": []
    },
    {
      "cell_type": "code",
      "metadata": {
        "id": "Px0HZZJIdYQ9"
      },
      "source": [
        "import os\n",
        "\n",
        "if 'df_train.pkl' not in os.listdir():\n",
        "    df_train = create_dataset(train_results)\n",
        "    df_test = create_dataset(test_results)\n",
        "    with open('df_train.pkl', 'wb') as fin:\n",
        "        pickle.dump(df_train, fin)\n",
        "    with open('df_test.pkl', 'wb') as fin:\n",
        "        pickle.dump(df_test, fin)\n",
        "else:\n",
        "    with open('df_train.pkl', 'rb') as fin:\n",
        "        df_train = pickle.load(fin)\n",
        "    with open('df_test.pkl', 'rb') as fin:\n",
        "        df_test = pickle.load(fin)"
      ],
      "execution_count": 8,
      "outputs": []
    },
    {
      "cell_type": "code",
      "metadata": {
        "id": "8n4iOqbpCrNA"
      },
      "source": [
        "if 'rating_test.pkl' not in os.listdir():\n",
        "    rating = make_rating(df_test)\n",
        "    with open('rating_test.pkl', 'wb') as fin:\n",
        "        pickle.dump(rating, fin)\n",
        "else:\n",
        "    with open('rating_test.pkl', 'rb') as fin:\n",
        "        rating = pickle.load(fin)"
      ],
      "execution_count": 9,
      "outputs": []
    },
    {
      "cell_type": "code",
      "metadata": {
        "id": "E-ZL5ITa4hVA",
        "colab": {
          "base_uri": "https://localhost:8080/",
          "height": 452
        },
        "outputId": "dd658de3-b56a-43e5-90aa-ba4c472ccca6"
      },
      "source": [
        "sorted_rating = {k: v for k, v in sorted(rating.items(), key=lambda item: item[1], reverse=True)}\n",
        "print('top 10:')\n",
        "for i in range(10):\n",
        "    id = list(sorted_rating.keys())[i]\n",
        "    player = players[id]\n",
        "    print(player['name'], player['surname'], sorted_rating[list(sorted_rating.keys())[i]])\n",
        "plt.hist(rating.values());"
      ],
      "execution_count": 10,
      "outputs": [
        {
          "output_type": "stream",
          "text": [
            "top 10:\n",
            "Илья Рожков 0.5514214632549\n",
            "Артём Никитин 0.5428255788426989\n",
            "Дарья Чепкасова 0.5428255788426989\n",
            "Роман Кельдышев 0.5428255788426989\n",
            "Анастасия Тулубьева 0.5428255788426989\n",
            "Юлия Пескишева 0.5428255788426989\n",
            "Андрей Петров 0.5197413452805685\n",
            "Валерия Макагонова 0.5129669753406216\n",
            "Мария Гаврюшина 0.5129669753406216\n",
            "Екатерина Коробкова 0.5129669753406216\n"
          ],
          "name": "stdout"
        },
        {
          "output_type": "display_data",
          "data": {
            "image/png": "[encoded data removed]",
            "text/plain": [
              "<Figure size 432x288 with 1 Axes>"
            ]
          },
          "metadata": {
            "tags": [],
            "needs_background": "light"
          }
        }
      ]
    },
    {
      "cell_type": "markdown",
      "metadata": {
        "id": "UE_9d1dR7gqj"
      },
      "source": [
        "# 3. Рейтинг команды"
      ]
    },
    {
      "cell_type": "markdown",
      "metadata": {
        "id": "d1GkK6Qk7mTw"
      },
      "source": [
        "Рейтинг каждого отдельного игрока расчитывался в baseline модели как средневзвешанная по сложности вопроса вероятность ответить на вопрос (сложные вопросы учитываются с большим весом, простые наоборот). Своего рода этот рейтинг можно интерпретировать как вероятность ответить на супер сложный вопрос, на который никто не смог ответить.  \n",
        "Можно воспользоваться идеей композиции моделей, где моделями будут выступать игроки. Так как игра - коллективный процесс рассуждения, где присутствует своего рода голосование каждого члена команды, вероятность ошибиться будет рассчитываться по формуле \n",
        "$\\prod\\limits_{i}(1-P_i)$ "
      ]
    },
    {
      "cell_type": "code",
      "metadata": {
        "id": "ylum7dmR-sr2"
      },
      "source": [
        "mean_rating = np.mean(list(rating.values()))\n",
        "\n",
        "def rate_team(team):\n",
        "    output = []\n",
        "    for player in team['teamMembers']:\n",
        "        id = player['player']['id']\n",
        "        player_rating = (1 - rating[id]) if id in rating.keys() else (1 - mean_rating)\n",
        "        output.append(player_rating)\n",
        "    if len(output) == 0:\n",
        "        output = [1 - mean_rating]\n",
        "    return 1 - reduce((lambda x, y: x * y), output) # вероятность всей команды ответить правильно"
      ],
      "execution_count": 11,
      "outputs": []
    },
    {
      "cell_type": "code",
      "metadata": {
        "colab": {
          "base_uri": "https://localhost:8080/"
        },
        "id": "S1ZfPMlD_KlY",
        "outputId": "63e17a6c-d5b1-47e5-a38c-707841a67217"
      },
      "source": [
        "spear_corr = []\n",
        "kendel_corr = []\n",
        "\n",
        "for id, teams in test_results.items():\n",
        "    true_rating = np.array([team['position'] for team in teams])\n",
        "    my_rating = [rate_team(team) for team in teams]\n",
        "    my_rating = np.argsort(my_rating)[::-1]\n",
        "    if not np.isnan(spearmanr(true_rating, my_rating).correlation):\n",
        "        spear_corr.append(spearmanr(true_rating, my_rating).correlation)\n",
        "    if not np.isnan(kendalltau(true_rating, my_rating).correlation):\n",
        "        kendel_corr.append(kendalltau(true_rating, my_rating).correlation)\n",
        "\n",
        "print(f'Средняя корреляция Спирмена: {np.mean(spear_corr):.3f}')\n",
        "print(f'Средняя корреляция Кендалла: {np.mean(kendel_corr):.3f}')"
      ],
      "execution_count": 12,
      "outputs": [
        {
          "output_type": "stream",
          "text": [
            "Средняя корреляция Спирмена: 0.740\n",
            "Средняя корреляция Кендалла: 0.585\n"
          ],
          "name": "stdout"
        }
      ]
    },
    {
      "cell_type": "markdown",
      "metadata": {
        "id": "IHGoNzLD5Ayi"
      },
      "source": [
        "Корреляция попала в допустимые пределы, значит, все идет по плану."
      ]
    },
    {
      "cell_type": "markdown",
      "metadata": {
        "id": "K6UKH2TI5L4o"
      },
      "source": [
        "# 4. EM-алгоритм"
      ]
    },
    {
      "cell_type": "markdown",
      "metadata": {
        "id": "_rGSdu4s5YSt"
      },
      "source": [
        "Необходимо представить каждый вопрос для каждой команды в уникальном виде, поэтому можно сконкатить ранее сохраненный номер вопроса и номер команды. Затем делать OHE на для каждого уникального значения и представить это в виде разреженной матрицы (иначе кернел падает)\n"
      ]
    },
    {
      "cell_type": "code",
      "metadata": {
        "id": "SLtZVtAwCFTO"
      },
      "source": [
        "from sklearn.preprocessing import OneHotEncoder\n",
        "\n",
        "df_train['question_num'] = df_train[\"question_num\"].map(str) + df_train[\"team_id\"].map(str)\n",
        "ids_from_train_df = (df_train['team_id'].map(str) + df_train['question_num'].map(str)).map(int)\n",
        "encoder = OneHotEncoder(handle_unknown='ignore')\n",
        "#encoder.fit(df_train[['player_id', 'question_num']])\n",
        "pqt_matrix = encoder.fit_transform(df_train[['player_id', 'question_num']])"
      ],
      "execution_count": 13,
      "outputs": []
    },
    {
      "cell_type": "code",
      "metadata": {
        "colab": {
          "base_uri": "https://localhost:8080/"
        },
        "id": "RjlTSj8L87Vp",
        "outputId": "f7893b94-ba47-4e77-ce5c-a3d0011a69ec"
      },
      "source": [
        "pqt_matrix"
      ],
      "execution_count": 14,
      "outputs": [
        {
          "output_type": "execute_result",
          "data": {
            "text/plain": [
              "<25557266x1354575 sparse matrix of type '<class 'numpy.float64'>'\n",
              "\twith 51114532 stored elements in Compressed Sparse Row format>"
            ]
          },
          "metadata": {
            "tags": []
          },
          "execution_count": 14
        }
      ]
    },
    {
      "cell_type": "code",
      "metadata": {
        "id": "w63zI_4YZx6Y"
      },
      "source": [
        "sigmoid = lambda w, x: 1 / (1 + np.exp(-x.dot(w)))\n",
        "theta = np.random.randn(pqt_matrix.shape[1]) # изначально задаем случайно параметры\n",
        "answer_proba = sigmoid(theta, pqt_matrix)\n",
        "ids_from_train_df = (df_train['team_id'].map(str) + df_train['question_num'].map(str)).map(int)\n",
        "ids_from_prod_df = None\n",
        "counts = np.array((pqt_matrix != 0).sum(axis=0))[0]"
      ],
      "execution_count": 15,
      "outputs": []
    },
    {
      "cell_type": "code",
      "metadata": {
        "id": "SfM7c40W-0TN"
      },
      "source": [
        "def e_step(answer_proba, ids_from_train_df, ids_from_prod_df):\n",
        "    df_train['1-p'] = 1 - answer_proba\n",
        "    temp_df = df_train[['team_id', 'question_num', '1-p']]\n",
        "    prod_df = temp_df.groupby(by=['team_id', 'question_num'], sort=False, as_index=False).prod()\n",
        "    if ids_from_prod_df is None:\n",
        "        ids_from_prod_df = (prod_df['team_id'].map(str) + prod_df['question_num'].map(str)).map(int)\n",
        "    prod_df = prod_df['1-p']\n",
        "    prod_df.index = ids_from_prod_df\n",
        "    inverse_proba = prod_df[ids_from_train_df].to_numpy()\n",
        "    z_hidden = answer_proba / (1 - inverse_proba)\n",
        "    z_hidden[df_train['answer'] == 0] = 0 \n",
        "    return z_hidden\n",
        "\n",
        "def m_step(sparce_matrix, theta, z_hidden, m_iter=10, alpha=2):\n",
        "    theta = theta.copy()\n",
        "    for i in range(m_iter):\n",
        "        answer_proba = sigmoid(theta, pqt_matrix)\n",
        "        theta = theta + alpha * ((sparce_matrix.T).dot(z_hidden * (1 - answer_proba) - (1 - z_hidden) * answer_proba) / counts)\n",
        "    return theta\n",
        "\n",
        "def likelihood(z_hidden, sparce_matrix, theta):\n",
        "    answer_proba = sigmoid(theta, pqt_matrix)\n",
        "    return np.mean(z_hidden * np.log(answer_proba) + (1 - z_hidden) * np.log(1 - answer_proba))"
      ],
      "execution_count": 46,
      "outputs": []
    },
    {
      "cell_type": "code",
      "metadata": {
        "colab": {
          "base_uri": "https://localhost:8080/"
        },
        "id": "tyoMnS1n_Hqx",
        "outputId": "f71b8ad4-299f-4ac9-fc78-49dbee352166"
      },
      "source": [
        "iterations = 20\n",
        "z_hidden = e_step(answer_proba, ids_from_train_df, ids_from_prod_df)\n",
        "for i in range(iterations):\n",
        "    theta = m_step(pqt_matrix, theta, z_hidden)\n",
        "    answer_proba = sigmoid(theta, pqt_matrix)\n",
        "    z_hidden = e_step(answer_proba, ids_from_train_df, ids_from_prod_df)\n",
        "    print(f'iter {i} : negative log loss = {-likelihood(z_hidden, pqt_matrix, theta):.3f}')"
      ],
      "execution_count": 47,
      "outputs": [
        {
          "output_type": "stream",
          "text": [
            "iter 0 : negative log loss = 0.093\n",
            "iter 1 : negative log loss = 0.083\n",
            "iter 2 : negative log loss = 0.077\n",
            "iter 3 : negative log loss = 0.073\n",
            "iter 4 : negative log loss = 0.070\n",
            "iter 5 : negative log loss = 0.068\n",
            "iter 6 : negative log loss = 0.067\n",
            "iter 7 : negative log loss = 0.066\n",
            "iter 8 : negative log loss = 0.065\n",
            "iter 9 : negative log loss = 0.064\n",
            "iter 10 : negative log loss = 0.064\n",
            "iter 11 : negative log loss = 0.063\n",
            "iter 12 : negative log loss = 0.063\n",
            "iter 13 : negative log loss = 0.062\n",
            "iter 14 : negative log loss = 0.062\n",
            "iter 15 : negative log loss = 0.061\n",
            "iter 16 : negative log loss = 0.061\n",
            "iter 17 : negative log loss = 0.060\n",
            "iter 18 : negative log loss = 0.060\n",
            "iter 19 : negative log loss = 0.060\n"
          ],
          "name": "stdout"
        }
      ]
    },
    {
      "cell_type": "code",
      "metadata": {
        "id": "CrFsd7AbJDzG"
      },
      "source": [
        "# Сохраняем натренированные theta и z_hidden\n",
        "if 'z_hidden.pkl' not in os.listdir():\n",
        "    with open('z_hidden.pkl', 'wb') as fin:\n",
        "        pickle.dump(z_hidden, fin)\n",
        "\n",
        "    with open('theta.pkl', 'wb') as fin:\n",
        "        pickle.dump(theta, fin)\n",
        "\n",
        "else:\n",
        "    with open('z_hidden.pkl', 'rb') as fin:\n",
        "        z_hidden = pickle.load(fin)\n",
        "\n",
        "    with open('theta.pkl', 'rb') as fin:\n",
        "        theta = pickle.load(fin)"
      ],
      "execution_count": 24,
      "outputs": []
    },
    {
      "cell_type": "code",
      "metadata": {
        "id": "xHdmiVlUJzD0"
      },
      "source": [
        "index_array = [feature.split('_')[1] for feature in encoder.get_feature_names()]"
      ],
      "execution_count": 18,
      "outputs": []
    },
    {
      "cell_type": "code",
      "metadata": {
        "id": "qVO_UaLpKUU5"
      },
      "source": [
        "em_players = {player_id: theta[index_array.index(str(player_id))] for player_id in df_train['player_id'].unique()}"
      ],
      "execution_count": 48,
      "outputs": []
    },
    {
      "cell_type": "code",
      "metadata": {
        "colab": {
          "base_uri": "https://localhost:8080/",
          "height": 265
        },
        "id": "CC09DBgQVGJ5",
        "outputId": "ba6260bd-fc2f-46d3-d6c8-c22081d48101"
      },
      "source": [
        "density = plt.hist(theta, bins=100, density=True)"
      ],
      "execution_count": 49,
      "outputs": [
        {
          "output_type": "display_data",
          "data": {
            "image/png": "[encoded data removed]",
            "text/plain": [
              "<Figure size 432x288 with 1 Axes>"
            ]
          },
          "metadata": {
            "tags": [],
            "needs_background": "light"
          }
        }
      ]
    },
    {
      "cell_type": "code",
      "metadata": {
        "id": "awtUOvj2SJ8t"
      },
      "source": [
        "rating_em = {}\n",
        "for player_id in df_test['player_id'].unique():\n",
        "    weight = em_players[player_id] if player_id in em_players.keys() else np.mean(list(em_players.values()))\n",
        "    predicted_proba = 1 / (1 + np.exp(-(weight + density[1][:100])))\n",
        "    rating_score = predicted_proba @ density[0] * 1 / 100\n",
        "    rating_em[player_id] = rating_score"
      ],
      "execution_count": 57,
      "outputs": []
    },
    {
      "cell_type": "code",
      "metadata": {
        "id": "wWs0TIDeWyur"
      },
      "source": [
        "mean_rating = np.mean(list(rating_em.values()))\n",
        "\n",
        "def rate_team(team):\n",
        "    output = []\n",
        "    for player in team['teamMembers']:\n",
        "        id = player['player']['id']\n",
        "        player_rating = (1 - rating_em[id]) if id in rating_em.keys() else (1 - mean_rating)\n",
        "        output.append(player_rating)\n",
        "    if len(output) == 0:\n",
        "        output = [1 - mean_rating]\n",
        "    return 1 - reduce((lambda x, y: x * y), output)"
      ],
      "execution_count": 58,
      "outputs": []
    },
    {
      "cell_type": "code",
      "metadata": {
        "colab": {
          "base_uri": "https://localhost:8080/"
        },
        "id": "hfx9P1FCW5dF",
        "outputId": "b70d9f10-bfb7-42cd-a897-35ae4a90d767"
      },
      "source": [
        "spear_corr = []\n",
        "kendel_corr = []\n",
        "\n",
        "for id, teams in test_results.items():\n",
        "    true_rating = np.array([team['position'] for team in teams])\n",
        "    my_rating = [rate_team(team) for team in teams]\n",
        "    my_rating = np.argsort(my_rating)[::-1]\n",
        "    if not np.isnan(spearmanr(true_rating, my_rating).correlation):\n",
        "        spear_corr.append(spearmanr(true_rating, my_rating).correlation)\n",
        "    if not np.isnan(kendalltau(true_rating, my_rating).correlation):\n",
        "        kendel_corr.append(kendalltau(true_rating, my_rating).correlation)"
      ],
      "execution_count": 59,
      "outputs": [
        {
          "output_type": "stream",
          "text": [
            "/usr/local/lib/python3.7/dist-packages/numpy/lib/function_base.py:2559: RuntimeWarning: invalid value encountered in true_divide\n",
            "  c /= stddev[:, None]\n",
            "/usr/local/lib/python3.7/dist-packages/numpy/lib/function_base.py:2560: RuntimeWarning: invalid value encountered in true_divide\n",
            "  c /= stddev[None, :]\n"
          ],
          "name": "stderr"
        }
      ]
    },
    {
      "cell_type": "code",
      "metadata": {
        "colab": {
          "base_uri": "https://localhost:8080/"
        },
        "id": "xnLXw3F5hY4S",
        "outputId": "9cd0c55c-b39d-4f25-ef01-324a6bf1f5c4"
      },
      "source": [
        "print(f'Средняя корреляция Спирмена: {np.mean(spear_corr):.3f}')\n",
        "print(f'Средняя корреляция Кендалла: {np.mean(kendel_corr):.3f}') # Выросло"
      ],
      "execution_count": 61,
      "outputs": [
        {
          "output_type": "stream",
          "text": [
            "Средняя корреляция Спирмена: 0.769\n",
            "Средняя корреляция Кендалла: 0.591\n"
          ],
          "name": "stdout"
        }
      ]
    },
    {
      "cell_type": "markdown",
      "metadata": {
        "id": "6XSz_9Vthyt4"
      },
      "source": [
        "# 5 Сложность турниров"
      ]
    },
    {
      "cell_type": "markdown",
      "metadata": {
        "id": "rxSlc8CsjOPj"
      },
      "source": [
        "По сути, theta представляет собой силу каждого игрока, так что сложность турниров можно определять по средней силе игроков."
      ]
    },
    {
      "cell_type": "code",
      "metadata": {
        "id": "7oMqNGsXizKB"
      },
      "source": [
        "mean_rating = np.mean(list(rating.values()))\n",
        "tournaments_diff = {}\n",
        "for id, teams in train_results.items():\n",
        "    tournament_rating = []\n",
        "    for team in teams:\n",
        "        for player in team['teamMembers']:\n",
        "            player_id = player['player']['id']\n",
        "            rating_player = player_rating = (1 - rating[player_id]) if player_id in rating.keys() else (1 - mean_rating)\n",
        "            tournament_rating.append(rating_player)\n",
        "    tournaments_diff[id] = np.mean(tournament_rating)"
      ],
      "execution_count": 79,
      "outputs": []
    },
    {
      "cell_type": "code",
      "metadata": {
        "id": "CgdrUmK8kuzF"
      },
      "source": [
        "sorted_tours = {k: v for k, v in sorted(tournaments_diff.items(), key=lambda item: item[1], reverse=True)}"
      ],
      "execution_count": 80,
      "outputs": []
    },
    {
      "cell_type": "code",
      "metadata": {
        "colab": {
          "base_uri": "https://localhost:8080/"
        },
        "id": "tTkKfrBGlEzK",
        "outputId": "944b2ac6-8d9b-4d2a-bddc-0fc49dc71f80"
      },
      "source": [
        "print('top 10:')\n",
        "for i in range(10):\n",
        "    id = list(sorted_tours.keys())[i]\n",
        "    tour = tournaments[int(id)]\n",
        "    print(f'{i}. {tour[\"name\"]}')"
      ],
      "execution_count": 81,
      "outputs": [
        {
          "output_type": "stream",
          "text": [
            "top 10:\n",
            "0. Открытый Студенческий чемпионат Краснодарского края\n",
            "1. ЧГК-Баттл: 5К vs ИКО\n",
            "2. Этажи\n",
            "3. Открытый чемпионат Швейцарии\n",
            "4. Бесславный Синхрон\n",
            "5. Студенческий чемпионат Калининградской области\n",
            "6. Открытая лига КФУ\n",
            "7. Кубок Губернатора Мурманской области\n",
            "8. Чемпионат Таджикистана\n",
            "9. Осенний кубок Барнаула\n"
          ],
          "name": "stdout"
        }
      ]
    },
    {
      "cell_type": "markdown",
      "metadata": {
        "id": "EjP1Uv31Aovo"
      },
      "source": [
        "# 6. Бонус. Рейтинг игроков.\n",
        "\n"
      ]
    },
    {
      "cell_type": "code",
      "metadata": {
        "id": "WVe-VFSzAoFu"
      },
      "source": [
        "sorted_rating = {k: v for k, v in sorted(rating_em.items(), key=lambda item: item[1], reverse=True)}"
      ],
      "execution_count": 82,
      "outputs": []
    },
    {
      "cell_type": "code",
      "metadata": {
        "colab": {
          "base_uri": "https://localhost:8080/"
        },
        "id": "U2Io57HCBLgf",
        "outputId": "d5d5d2b1-7ac4-477b-e0e0-587de90e312f"
      },
      "source": [
        "for i, each in enumerate(top_10_id):\n",
        "    number_matches = len(df_train[df_train['player_id'] == each])\n",
        "    print(f\"{i+1}. {players[each]['name']} {players[each]['surname']}: {number_matches} answered questions\")"
      ],
      "execution_count": 92,
      "outputs": [
        {
          "output_type": "stream",
          "text": [
            "1. София Лебедева: 36 answered questions\n",
            "2. Илья Микулин: 36 answered questions\n",
            "3. Ксения Гаврилова: 36 answered questions\n",
            "4. Полина Джегур: 36 answered questions\n",
            "5. Татьяна Дианова: 36 answered questions\n",
            "6. Татьяна Косарева: 36 answered questions\n",
            "7. Ольга Бондаренко: 36 answered questions\n",
            "8. Сергей Пашкевич: 36 answered questions\n",
            "9. Алексей Макаров: 36 answered questions\n",
            "10. Полина Максимов: 36 answered questions\n"
          ],
          "name": "stdout"
        }
      ]
    },
    {
      "cell_type": "markdown",
      "metadata": {
        "id": "2GhB2oeuCGwj"
      },
      "source": [
        "Все игроки из топа сыграли только 1 игру."
      ]
    }
  ]
}